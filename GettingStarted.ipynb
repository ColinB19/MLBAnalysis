{
 "cells": [
  {
   "cell_type": "markdown",
   "id": "315971e7",
   "metadata": {},
   "source": [
    "# Baseball Analytics\n",
    "Some questions I want to answer:\n",
    "1. Does handedness really matter when it comes to pitching/batting? Do lefties really do better against right-handed batters?\n",
    "2. Can you predict a batters OBP?\n",
    "3. Does the number of outs affect a batters performance? "
   ]
  },
  {
   "cell_type": "code",
   "execution_count": 26,
   "id": "56671f37",
   "metadata": {
    "ExecuteTime": {
     "end_time": "2021-05-19T06:58:40.584061Z",
     "start_time": "2021-05-19T06:58:40.581282Z"
    }
   },
   "outputs": [],
   "source": [
    "import pandas as pd\n",
    "import numpy as np\n",
    "import re\n",
    "import os"
   ]
  },
  {
   "cell_type": "markdown",
   "id": "b8ffaaea",
   "metadata": {},
   "source": [
    "## What to do with raw data?\n",
    "I think the best way to go about this is to create a games, players and play by play dataset. The *games* dataset will have\n",
    "1. a unique ID\n",
    "2. Team info, away, home, etc.\n",
    "3. Weather info\n",
    "4. All fields with `info` tag in the txt file.\n",
    "\n",
    "The *players* dataset will have\n",
    "1. player ID's\n",
    "2. team ID's (coupled with years for trades?)\n",
    "3. position\n",
    "4. handedness\n",
    "5. any other demos I can find\n",
    "\n",
    "The *play-by-play* data will have all information pertaining to individual plays in games!\n",
    "1. GameID\n",
    "2. PlayID\n",
    "3. PlayerID's (all players who were involved)\n",
    "4. pitch sequence\n",
    "5. other events?\n",
    "\n",
    "Check out retrosheet's [detailed descriptions](https://www.retrosheet.org/eventfile.htm) of the play-by-play files. \n"
   ]
  },
  {
   "cell_type": "code",
   "execution_count": 27,
   "id": "3e59df00",
   "metadata": {
    "ExecuteTime": {
     "end_time": "2021-05-19T06:58:41.365777Z",
     "start_time": "2021-05-19T06:58:41.241977Z"
    }
   },
   "outputs": [],
   "source": [
    "# Here we're just going to read in our data line by line. For now we are just dealing with 2010 data\n",
    "folderpath = r'Data/Retrosheet/2010-2019/2010'\n",
    "filepaths = [os.path.join(folderpath, name) for name in os.listdir(folderpath) if \"ROS\" not in name]\n",
    "data = []\n",
    "\n",
    "for path in filepaths:\n",
    "    with open(path, 'r') as f:\n",
    "        file = f.readlines()\n",
    "        data = data + file"
   ]
  },
  {
   "cell_type": "code",
   "execution_count": 28,
   "id": "9b111f7b",
   "metadata": {
    "ExecuteTime": {
     "end_time": "2021-05-19T06:58:47.038549Z",
     "start_time": "2021-05-19T06:58:46.613071Z"
    }
   },
   "outputs": [],
   "source": [
    "# here I'm just grabbing all of the info classes so I don't have to type them out myself\n",
    "# NOTE: There could be more classes than this; we can improve this later if we want\n",
    "infoClassList = ['gameID']\n",
    "\n",
    "for line in data:\n",
    "    flag = re.search(r'([a-z]*),', line).group(1)\n",
    "    if (flag == 'info'):\n",
    "        infoObj = re.search(r'info,([A-Za-z\\d]*),(.*)\\n', line)\n",
    "        infoClass = infoObj.group(1)\n",
    "        if infoClass not in infoClassList:\n",
    "            infoClassList.append(infoClass)\n",
    "            \n",
    "infoClassList.append('starters')\n",
    "\n",
    "# we need a dictionary to append to the games dataframe\n",
    "appDict = {}\n",
    "for el in infoClassList:\n",
    "    appDict[el]=None"
   ]
  },
  {
   "cell_type": "code",
   "execution_count": 29,
   "id": "ed6bfcc7",
   "metadata": {
    "ExecuteTime": {
     "end_time": "2021-05-19T06:58:49.162093Z",
     "start_time": "2021-05-19T06:58:47.765666Z"
    }
   },
   "outputs": [],
   "source": [
    "startersList = []\n",
    "gameID = ''\n",
    "homePitcher = ''\n",
    "awayPitcher = ''\n",
    "switch = False # this will be used to denote when batters switch hit\n",
    "# I deal with dictionaries here because it is WAY faster than appending to pandas dataframes. \n",
    "# Seriously, orders of magnitude faster\n",
    "playsDict = {}\n",
    "gamesDict = {}\n",
    "gIdx = 0\n",
    "pIdx = 0\n",
    "# let's just parse through each line and get what we need.\n",
    "for line in data:\n",
    "    flag = re.search(r'([a-z]*),(.*)\\n', line).group(1)\n",
    "    if flag == 'id':\n",
    "        if appDict['gameID'] is not None:\n",
    "            # this prevents us from writing Null on the first pass through\n",
    "            appDict['starters'] = startersList\n",
    "            gamesDict[gIdx] = appDict\n",
    "            # need to reset these quantities now that we have a new game\n",
    "            startersList = []\n",
    "            gameID = ''\n",
    "            homePitcher = ''\n",
    "            awayPitcher = ''\n",
    "            \n",
    "            gIdx += 1\n",
    "            \n",
    "        gameID = re.search(r'id,([A-Z\\d]*)\\n', line).group(1)\n",
    "        appDict['gameID'] = gameID\n",
    "        \n",
    "    elif flag == 'info': \n",
    "        # this is information about the game: time, weather, etc.\n",
    "        infoObj = re.search(r'info,([\\w]*),(.*)\\n', line)\n",
    "        infoClass = infoObj.group(1)\n",
    "        infoVal = infoObj.group(2)\n",
    "        appDict[infoClass] = infoVal\n",
    "        \n",
    "    elif flag == 'start':\n",
    "        # This is information about the starters of the game. \n",
    "        startObj = re.search(r'start,([\\w-]*),\"(.*)\",([\\d]*),([\\d]*),([\\d]*)\\n', line)\n",
    "        playerID = startObj.group(1)\n",
    "        homeAway = int(startObj.group(3))\n",
    "        position = int(startObj.group(5))\n",
    "        #print('ID', playerID,'homeAway', homeAway,'pos', position)\n",
    "        if position == 1:\n",
    "            if homeAway == 0:\n",
    "                homePitcher = playerID\n",
    "            else:\n",
    "                awayPitcher = playerID\n",
    "        # not using these for now\n",
    "        # playerName = startObj.group(2)\n",
    "        # battingPosition = startObj.grostartersList = group(4)\n",
    "        startersList.append([playerID, int(homeAway), int(position)])\n",
    "        \n",
    "    elif flag == 'play':\n",
    "        playObj = re.search(r'play,([\\d]*),([\\d]*),([\\w-]*),(.*),(.*),(.*)\\n', line)\n",
    "        inning = int(playObj.group(1))\n",
    "        homeAway = int(playObj.group(2))\n",
    "        playerID = playObj.group(3)\n",
    "        count = playObj.group(4)\n",
    "        pitches = playObj.group(5)\n",
    "        playString = playObj.group(6)\n",
    "        # print(homePitcher,awayPitcher)\n",
    "        if homeAway == 0:\n",
    "            tempPitch = homePitcher\n",
    "        else:\n",
    "            tempPitch = awayPitcher\n",
    "        temp = {\n",
    "            'gameID':gameID,\n",
    "            'inning':inning,\n",
    "            'h/a':homeAway,\n",
    "            'playerID':playerID,\n",
    "            'pitcherID':tempPitch,\n",
    "            'eventCount':count,\n",
    "            'pitches':pitches,\n",
    "            'playString':playString\n",
    "        }\n",
    "        playsDict[pIdx] = temp\n",
    "        pIdx += 1\n",
    "        \n",
    "    elif flag == 'sub':\n",
    "        # This string is the same as the start string. The only info I care\n",
    "        # about right now is if the pitcher changes. I may want more later!\n",
    "        subObj = re.search(r'sub,([\\w-]*),\"(.*)\",([\\d]*),([\\d]*),([\\d]*)\\n', line)\n",
    "        playerID = subObj.group(1)\n",
    "        homeAway = int(subObj.group(3))\n",
    "        position = int(subObj.group(5))\n",
    "        if position == 1:\n",
    "            #print(playerID)\n",
    "            if homeAway == 0:\n",
    "                homePitcher = playerID\n",
    "            else:\n",
    "                awayPitcher = playerID\n",
    "        # not using these for now\n",
    "        # playerName = subObj.group(2)\n",
    "        # battingPosition = subObj.grostartersList = group(4)\n",
    "    elif flag == 'badj':\n",
    "        switch = True\n",
    "        print('SWITCH!')\n",
    "        # we need this to inform each subsequent play row. \n",
    "        # The hard part is turning it off when there is a new batter!\n",
    "    elif (flag != 'data') and (flag != 'version') and (flag != 'com'): \n",
    "            print('uh-oh:', flag)\n",
    "        \n",
    "        "
   ]
  },
  {
   "cell_type": "code",
   "execution_count": 36,
   "id": "fb5915b2",
   "metadata": {
    "ExecuteTime": {
     "end_time": "2021-05-19T07:00:45.839716Z",
     "start_time": "2021-05-19T07:00:45.147199Z"
    }
   },
   "outputs": [],
   "source": [
    "# now let's parse this data and get some dataframes out of it.\n",
    "games = pd.DataFrame.from_dict(gamesDict, 'index', columns = infoClassList)\n",
    "\n",
    "# this only has a few items so we can hand code these features. I haven't decided how I want to split up the pitches and play strings yet\n",
    "# I may need to add a \"switch\" feature for when a batter switches hands\n",
    "plays = pd.DataFrame.from_dict(playsDict, 'index', columns = ['gameID', 'inning', 'h/a', 'playerID', 'pitcherID', 'eventCount', 'pitches', 'playString']) "
   ]
  },
  {
   "cell_type": "code",
   "execution_count": 37,
   "id": "5a331b61",
   "metadata": {
    "ExecuteTime": {
     "end_time": "2021-05-19T07:00:50.160762Z",
     "start_time": "2021-05-19T07:00:50.138653Z"
    }
   },
   "outputs": [
    {
     "name": "stdout",
     "output_type": "stream",
     "text": [
      "kersc001\n"
     ]
    }
   ],
   "source": [
    "li = plays.pitcherID.unique().tolist()\n",
    "for p in li:\n",
    "    if 'kers' in p:\n",
    "        print(p)"
   ]
  },
  {
   "cell_type": "code",
   "execution_count": 38,
   "id": "97113fca",
   "metadata": {
    "ExecuteTime": {
     "end_time": "2021-05-19T07:00:51.905849Z",
     "start_time": "2021-05-19T07:00:51.869555Z"
    }
   },
   "outputs": [],
   "source": [
    "jverlander = plays[plays['pitcherID'] == 'verlj001']"
   ]
  },
  {
   "cell_type": "code",
   "execution_count": 39,
   "id": "f93f0ec6",
   "metadata": {
    "ExecuteTime": {
     "end_time": "2021-05-19T07:00:52.272253Z",
     "start_time": "2021-05-19T07:00:52.249785Z"
    }
   },
   "outputs": [],
   "source": [
    "ckershaw = plays[plays['pitcherID'] == 'kersc001']"
   ]
  },
  {
   "cell_type": "code",
   "execution_count": 40,
   "id": "5966c242",
   "metadata": {
    "ExecuteTime": {
     "end_time": "2021-05-19T07:00:52.859789Z",
     "start_time": "2021-05-19T07:00:52.842883Z"
    }
   },
   "outputs": [
    {
     "data": {
      "text/html": [
       "<div>\n",
       "<style scoped>\n",
       "    .dataframe tbody tr th:only-of-type {\n",
       "        vertical-align: middle;\n",
       "    }\n",
       "\n",
       "    .dataframe tbody tr th {\n",
       "        vertical-align: top;\n",
       "    }\n",
       "\n",
       "    .dataframe thead th {\n",
       "        text-align: right;\n",
       "    }\n",
       "</style>\n",
       "<table border=\"1\" class=\"dataframe\">\n",
       "  <thead>\n",
       "    <tr style=\"text-align: right;\">\n",
       "      <th></th>\n",
       "      <th>gameID</th>\n",
       "      <th>inning</th>\n",
       "      <th>h/a</th>\n",
       "      <th>playerID</th>\n",
       "      <th>pitcherID</th>\n",
       "      <th>eventCount</th>\n",
       "      <th>pitches</th>\n",
       "      <th>playString</th>\n",
       "    </tr>\n",
       "  </thead>\n",
       "  <tbody>\n",
       "    <tr>\n",
       "      <th>1933</th>\n",
       "      <td>CHN201005250</td>\n",
       "      <td>1</td>\n",
       "      <td>0</td>\n",
       "      <td>furcr001</td>\n",
       "      <td>kersc001</td>\n",
       "      <td>32</td>\n",
       "      <td>BFBFBC</td>\n",
       "      <td>K</td>\n",
       "    </tr>\n",
       "    <tr>\n",
       "      <th>1934</th>\n",
       "      <td>CHN201005250</td>\n",
       "      <td>1</td>\n",
       "      <td>0</td>\n",
       "      <td>martr004</td>\n",
       "      <td>kersc001</td>\n",
       "      <td>00</td>\n",
       "      <td>X</td>\n",
       "      <td>S9/G</td>\n",
       "    </tr>\n",
       "    <tr>\n",
       "      <th>1935</th>\n",
       "      <td>CHN201005250</td>\n",
       "      <td>1</td>\n",
       "      <td>0</td>\n",
       "      <td>kempm001</td>\n",
       "      <td>kersc001</td>\n",
       "      <td>32</td>\n",
       "      <td>B1FBBS&gt;S</td>\n",
       "      <td>K+SB2</td>\n",
       "    </tr>\n",
       "    <tr>\n",
       "      <th>1936</th>\n",
       "      <td>CHN201005250</td>\n",
       "      <td>1</td>\n",
       "      <td>0</td>\n",
       "      <td>ramim002</td>\n",
       "      <td>kersc001</td>\n",
       "      <td>30</td>\n",
       "      <td>BBBB</td>\n",
       "      <td>W</td>\n",
       "    </tr>\n",
       "    <tr>\n",
       "      <th>1937</th>\n",
       "      <td>CHN201005250</td>\n",
       "      <td>1</td>\n",
       "      <td>0</td>\n",
       "      <td>lonej001</td>\n",
       "      <td>kersc001</td>\n",
       "      <td>02</td>\n",
       "      <td>CCX</td>\n",
       "      <td>64(1)/FO/G</td>\n",
       "    </tr>\n",
       "    <tr>\n",
       "      <th>...</th>\n",
       "      <td>...</td>\n",
       "      <td>...</td>\n",
       "      <td>...</td>\n",
       "      <td>...</td>\n",
       "      <td>...</td>\n",
       "      <td>...</td>\n",
       "      <td>...</td>\n",
       "      <td>...</td>\n",
       "    </tr>\n",
       "    <tr>\n",
       "      <th>209180</th>\n",
       "      <td>SDN201009070</td>\n",
       "      <td>8</td>\n",
       "      <td>0</td>\n",
       "      <td>gibbj002</td>\n",
       "      <td>kersc001</td>\n",
       "      <td>11</td>\n",
       "      <td>.BFX</td>\n",
       "      <td>8!/F</td>\n",
       "    </tr>\n",
       "    <tr>\n",
       "      <th>209181</th>\n",
       "      <td>SDN201009070</td>\n",
       "      <td>8</td>\n",
       "      <td>0</td>\n",
       "      <td>podss001</td>\n",
       "      <td>kersc001</td>\n",
       "      <td>00</td>\n",
       "      <td></td>\n",
       "      <td>NP</td>\n",
       "    </tr>\n",
       "    <tr>\n",
       "      <th>209182</th>\n",
       "      <td>SDN201009070</td>\n",
       "      <td>8</td>\n",
       "      <td>0</td>\n",
       "      <td>podss001</td>\n",
       "      <td>kersc001</td>\n",
       "      <td>12</td>\n",
       "      <td>.BCFFS</td>\n",
       "      <td>K</td>\n",
       "    </tr>\n",
       "    <tr>\n",
       "      <th>209183</th>\n",
       "      <td>SDN201009070</td>\n",
       "      <td>8</td>\n",
       "      <td>0</td>\n",
       "      <td>furcr001</td>\n",
       "      <td>kersc001</td>\n",
       "      <td>32</td>\n",
       "      <td>BBCSBB</td>\n",
       "      <td>W</td>\n",
       "    </tr>\n",
       "    <tr>\n",
       "      <th>209184</th>\n",
       "      <td>SDN201009070</td>\n",
       "      <td>8</td>\n",
       "      <td>0</td>\n",
       "      <td>lonej001</td>\n",
       "      <td>kersc001</td>\n",
       "      <td>22</td>\n",
       "      <td>CFBBS</td>\n",
       "      <td>K</td>\n",
       "    </tr>\n",
       "  </tbody>\n",
       "</table>\n",
       "<p>966 rows × 8 columns</p>\n",
       "</div>"
      ],
      "text/plain": [
       "              gameID inning  h/a  playerID pitcherID eventCount   pitches  \\\n",
       "1933    CHN201005250      1    0  furcr001  kersc001         32    BFBFBC   \n",
       "1934    CHN201005250      1    0  martr004  kersc001         00         X   \n",
       "1935    CHN201005250      1    0  kempm001  kersc001         32  B1FBBS>S   \n",
       "1936    CHN201005250      1    0  ramim002  kersc001         30      BBBB   \n",
       "1937    CHN201005250      1    0  lonej001  kersc001         02       CCX   \n",
       "...              ...    ...  ...       ...       ...        ...       ...   \n",
       "209180  SDN201009070      8    0  gibbj002  kersc001         11      .BFX   \n",
       "209181  SDN201009070      8    0  podss001  kersc001         00             \n",
       "209182  SDN201009070      8    0  podss001  kersc001         12    .BCFFS   \n",
       "209183  SDN201009070      8    0  furcr001  kersc001         32    BBCSBB   \n",
       "209184  SDN201009070      8    0  lonej001  kersc001         22     CFBBS   \n",
       "\n",
       "        playString  \n",
       "1933             K  \n",
       "1934          S9/G  \n",
       "1935         K+SB2  \n",
       "1936             W  \n",
       "1937    64(1)/FO/G  \n",
       "...            ...  \n",
       "209180        8!/F  \n",
       "209181          NP  \n",
       "209182           K  \n",
       "209183           W  \n",
       "209184           K  \n",
       "\n",
       "[966 rows x 8 columns]"
      ]
     },
     "execution_count": 40,
     "metadata": {},
     "output_type": "execute_result"
    }
   ],
   "source": [
    "ckershaw"
   ]
  },
  {
   "cell_type": "code",
   "execution_count": 41,
   "id": "a2c4e1b2",
   "metadata": {
    "ExecuteTime": {
     "end_time": "2021-05-19T07:03:40.735946Z",
     "start_time": "2021-05-19T07:03:40.721007Z"
    }
   },
   "outputs": [
    {
     "data": {
      "text/plain": [
       "['1',\n",
       " '2',\n",
       " '3',\n",
       " '4',\n",
       " '5',\n",
       " '6',\n",
       " '7',\n",
       " '8',\n",
       " '9',\n",
       " '10',\n",
       " '11',\n",
       " '12',\n",
       " '13',\n",
       " '14',\n",
       " '15',\n",
       " '16',\n",
       " '17',\n",
       " '18',\n",
       " '19',\n",
       " '20']"
      ]
     },
     "execution_count": 41,
     "metadata": {},
     "output_type": "execute_result"
    }
   ],
   "source": [
    "plays.inning.unique().tolist()"
   ]
  },
  {
   "cell_type": "code",
   "execution_count": null,
   "id": "97885723",
   "metadata": {},
   "outputs": [],
   "source": []
  }
 ],
 "metadata": {
  "kernelspec": {
   "display_name": "Python 3",
   "language": "python",
   "name": "python3"
  },
  "language_info": {
   "codemirror_mode": {
    "name": "ipython",
    "version": 3
   },
   "file_extension": ".py",
   "mimetype": "text/x-python",
   "name": "python",
   "nbconvert_exporter": "python",
   "pygments_lexer": "ipython3",
   "version": "3.9.4"
  },
  "toc": {
   "base_numbering": 1,
   "nav_menu": {},
   "number_sections": true,
   "sideBar": true,
   "skip_h1_title": false,
   "title_cell": "Table of Contents",
   "title_sidebar": "Contents",
   "toc_cell": false,
   "toc_position": {},
   "toc_section_display": true,
   "toc_window_display": false
  }
 },
 "nbformat": 4,
 "nbformat_minor": 5
}
